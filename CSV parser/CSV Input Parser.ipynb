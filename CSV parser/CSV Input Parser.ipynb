{
 "cells": [
  {
   "cell_type": "markdown",
   "metadata": {},
   "source": [
    "CSV Input Parser - Parses data from .dat file, and writes the data into an .xml file or JSON file"
   ]
  },
  {
   "cell_type": "code",
   "execution_count": 17,
   "metadata": {},
   "outputs": [],
   "source": [
    "import csv, json\n",
    "import pandas as pd\n",
    "import numpy as np\n",
    "import os"
   ]
  },
  {
   "cell_type": "markdown",
   "metadata": {},
   "source": [
    "Writing the .dat file into XML format"
   ]
  },
  {
   "cell_type": "code",
   "execution_count": 2,
   "metadata": {},
   "outputs": [],
   "source": [
    "#we can convert to dataframe to store our data, transpose, and now we have each column as a row\n",
    "\n",
    "#filename\n",
    "#dat_file = \"radix2_dim1_double_n1_c2c_inplace.dat\"\n",
    "\n",
    "#data = pd.read_csv(dat_file, sep = '\\s+', header = 1, usecols = np.arange(7), index_col = None)\n",
    "#was able to put the data into a df via this method, however it cuts off the remaining cols after '...'"
   ]
  },
  {
   "cell_type": "code",
   "execution_count": 3,
   "metadata": {},
   "outputs": [],
   "source": [
    "# process each record from the dataframe\n",
    "\n",
    "def xml_encode(row):\n",
    "    # we output a record\n",
    "    xmlItem = ['  <data>']\n",
    "\n",
    "    # or each field in the row we create a XML markup in a <field name=...>...</field> format\n",
    "    for field in row.index:\n",
    "        xmlItem.append('    <var var_name=\"{0}\">{1}</var>'.format(field, row[field]))\n",
    "   \n",
    "    # this marks the end of the record\n",
    "    xmlItem.append('  </data>')\n",
    "\n",
    "    # return a string back to the calling method\n",
    "    return '\\n'.join(xmlItem)\n",
    "\n",
    "\n",
    "# write the data into xml format\n",
    "\n",
    "def write_xml(xmlFileName, data):\n",
    "    with open(xmlFileName, 'w') as xmlFile:\n",
    "\n",
    "        # write the headers\n",
    "        xmlFile.write('<?xml version=\"1.0\" encoding=\"UTF-8\"?>\\n')\n",
    "        xmlFile.write('<data>\\n')\n",
    "\n",
    "        # write the data\n",
    "        xmlFile.write('\\n'.join(data.apply(xml_encode, axis=1)))\n",
    "\n",
    "        # write the footer\n",
    "        xmlFile.write('\\n</data>')"
   ]
  },
  {
   "cell_type": "markdown",
   "metadata": {},
   "source": [
    " Writing the .dat file into JSON format"
   ]
  },
  {
   "cell_type": "code",
   "execution_count": 4,
   "metadata": {},
   "outputs": [],
   "source": [
    "# writes our .dat file to JSON \n",
    "def write_to_json (dat_file):\n",
    "    data = get_data(dat_file) #gets our data in list format \n",
    "    output_file = dat_file[:-3] + \"json\" #what we will write to \n",
    "    \n",
    "    with open (output_file, 'w', encoding = 'utf-8') as f:\n",
    "            json.dump(data, f, ensure_ascii=False, indent=4) #writes the list to JSON file\n",
    "            \n",
    "            \n",
    "            \n",
    "# gets the data into a list of lists       \n",
    "def get_data (dat_file):\n",
    "    data = [i.strip().split() for i in open(dat_file).readlines()] #gets list of lists\n",
    "    return data\n",
    "\n",
    "\n",
    "\n",
    "#prints the data in the JSON file\n",
    "def print_data (dat_file):\n",
    "    output_file = dat_file[:-3] + \"json\" #what we will write to\n",
    "    \n",
    "    with open(output_file) as json_file:\n",
    "        data = json.load(json_file)\n",
    "        for line in data:\n",
    "            print(line)"
   ]
  },
  {
   "cell_type": "code",
   "execution_count": 5,
   "metadata": {},
   "outputs": [],
   "source": [
    "#write_to_json (dat_file) #write out file to JSON format\n",
    "#print_data(dat_file) #print our file "
   ]
  },
  {
   "cell_type": "markdown",
   "metadata": {},
   "source": [
    "Iterating over files in a directory "
   ]
  },
  {
   "cell_type": "code",
   "execution_count": 6,
   "metadata": {},
   "outputs": [],
   "source": [
    "# get directory from user\n",
    "\n",
    "def get_directory():\n",
    "    directory = input(\"Enter the directory you want to use: \")\n",
    "    return directory\n",
    "\n",
    "\n",
    "\n",
    "# iterate over all the files in a directory\n",
    "def iterate_through_directory():\n",
    "    path = get_directory()\n",
    "    \n",
    "    for filename in os.listdir(path):\n",
    "        if filename.endswith('.dat'):\n",
    "            #with open(os.path.join(path, filename)) as f:\n",
    "                write_to_json(filename)\n",
    "                print_data(filename)"
   ]
  },
  {
   "cell_type": "code",
   "execution_count": null,
   "metadata": {},
   "outputs": [],
   "source": [
    "iterate_through_directory()"
   ]
  },
  {
   "cell_type": "code",
   "execution_count": null,
   "metadata": {},
   "outputs": [],
   "source": []
  },
  {
   "cell_type": "code",
   "execution_count": null,
   "metadata": {},
   "outputs": [],
   "source": []
  }
 ],
 "metadata": {
  "kernelspec": {
   "display_name": "Python 3",
   "language": "python",
   "name": "python3"
  },
  "language_info": {
   "codemirror_mode": {
    "name": "ipython",
    "version": 3
   },
   "file_extension": ".py",
   "mimetype": "text/x-python",
   "name": "python",
   "nbconvert_exporter": "python",
   "pygments_lexer": "ipython3",
   "version": "3.7.6"
  }
 },
 "nbformat": 4,
 "nbformat_minor": 4
}
